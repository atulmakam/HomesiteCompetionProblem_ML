{
  "nbformat": 4,
  "nbformat_minor": 0,
  "metadata": {
    "colab": {
      "name": "Assignment_3_code.ipynb",
      "provenance": [],
      "collapsed_sections": []
    },
    "kernelspec": {
      "name": "python3",
      "display_name": "Python 3"
    }
  },
  "cells": [
    {
      "cell_type": "code",
      "metadata": {
        "id": "QcwQ5hdHdllC",
        "colab_type": "code",
        "outputId": "65d54b66-c45d-44b2-e910-98c12288d875",
        "colab": {
          "base_uri": "https://localhost:8080/",
          "height": 238
        }
      },
      "source": [
        "!pip install vecstack"
      ],
      "execution_count": 2,
      "outputs": [
        {
          "output_type": "stream",
          "text": [
            "Collecting vecstack\n",
            "  Downloading https://files.pythonhosted.org/packages/d0/a1/b9a1e9e9e5a12078da1ab9788c7885e4c745358f7e57d5f94d9db6a4e898/vecstack-0.4.0.tar.gz\n",
            "Requirement already satisfied: numpy in /usr/local/lib/python3.6/dist-packages (from vecstack) (1.17.3)\n",
            "Requirement already satisfied: scipy in /usr/local/lib/python3.6/dist-packages (from vecstack) (1.3.1)\n",
            "Requirement already satisfied: scikit-learn>=0.18 in /usr/local/lib/python3.6/dist-packages (from vecstack) (0.21.3)\n",
            "Requirement already satisfied: joblib>=0.11 in /usr/local/lib/python3.6/dist-packages (from scikit-learn>=0.18->vecstack) (0.14.0)\n",
            "Building wheels for collected packages: vecstack\n",
            "  Building wheel for vecstack (setup.py) ... \u001b[?25l\u001b[?25hdone\n",
            "  Created wheel for vecstack: filename=vecstack-0.4.0-cp36-none-any.whl size=19879 sha256=6cbd57978c24049fb8b4af71831e49318bc8cfc764eeb696984efa739d0bc0f2\n",
            "  Stored in directory: /root/.cache/pip/wheels/5f/bb/4e/f6488433d53bc0684673d6845e5bf11a25240577c8151c140e\n",
            "Successfully built vecstack\n",
            "Installing collected packages: vecstack\n",
            "Successfully installed vecstack-0.4.0\n"
          ],
          "name": "stdout"
        }
      ]
    },
    {
      "cell_type": "code",
      "metadata": {
        "id": "eQqGDszCfMbu",
        "colab_type": "code",
        "colab": {}
      },
      "source": [
        "from vecstack import stacking\n",
        "import pandas as pd\n",
        "import numpy as np\n",
        "from sklearn.metrics import accuracy_score #works\n",
        "from sklearn.model_selection import train_test_split\n",
        "from sklearn.ensemble import RandomForestClassifier\n",
        "from sklearn.tree import DecisionTreeClassifier\n",
        "from sklearn.model_selection import GridSearchCV\n",
        "from sklearn.model_selection import RandomizedSearchCV\n",
        "from sklearn.model_selection import cross_val_score\n",
        "from sklearn.metrics import classification_report, confusion_matrix\n",
        "from sklearn.ensemble import GradientBoostingClassifier\n",
        "from sklearn.neural_network import MLPClassifier\n",
        "#from sklearn.ensemble import RandomForestClassifier\n",
        "from imblearn.over_sampling import SMOTE \n",
        "from sklearn.svm import SVC\n",
        "from collections import Counter #for Smote, \n",
        "\n",
        "import warnings\n",
        "warnings.filterwarnings(\"ignore\")\n"
      ],
      "execution_count": 0,
      "outputs": []
    },
    {
      "cell_type": "code",
      "metadata": {
        "id": "1vyZX66TfUTt",
        "colab_type": "code",
        "outputId": "12731b09-c167-4e9c-c175-75996efc95d1",
        "colab": {
          "base_uri": "https://localhost:8080/",
          "height": 445
        }
      },
      "source": [
        "# To upload our datasets from our working directory we need to mount our drive contents to the colab environment. \n",
        "# For the code to do so you can search “mount” in code snippets or use the code given below. \n",
        "# Our entire drive contents are now mounted on colab at the location “/gdrive”.\n",
        "\n",
        "from google.colab import drive\n",
        "drive.mount('/gdrive')\n",
        "#Change current working directory to gdrive\n",
        "%cd /gdrive\n",
        "\n",
        "\n",
        "trainfile = r'/gdrive/My Drive/week3/train.csv'\n",
        "train_data = pd.read_csv(trainfile)\n",
        "\n",
        "testfile = r'/gdrive/My Drive/week3/test.csv'\n",
        "test_data = pd.read_csv(testfile)\n",
        "\n",
        "print(train_data.shape)\n",
        "print(train_data.head()) \n",
        "\n",
        "print(test_data.shape)\n",
        "print(test_data.head()) "
      ],
      "execution_count": 5,
      "outputs": [
        {
          "output_type": "stream",
          "text": [
            "Go to this URL in a browser: https://accounts.google.com/o/oauth2/auth?client_id=947318989803-6bn6qk8qdgf4n4g3pfee6491hc0brc4i.apps.googleusercontent.com&redirect_uri=urn%3Aietf%3Awg%3Aoauth%3A2.0%3Aoob&scope=email%20https%3A%2F%2Fwww.googleapis.com%2Fauth%2Fdocs.test%20https%3A%2F%2Fwww.googleapis.com%2Fauth%2Fdrive%20https%3A%2F%2Fwww.googleapis.com%2Fauth%2Fdrive.photos.readonly%20https%3A%2F%2Fwww.googleapis.com%2Fauth%2Fpeopleapi.readonly&response_type=code\n",
            "\n",
            "Enter your authorization code:\n",
            "··········\n",
            "Mounted at /gdrive\n",
            "/gdrive\n",
            "(65000, 596)\n",
            "   CoverageField11A  ...  QuoteConversion_Flag\n",
            "0                 2  ...                     0\n",
            "1                 5  ...                     0\n",
            "2                 4  ...                     0\n",
            "3                15  ...                     0\n",
            "4                 4  ...                     0\n",
            "\n",
            "[5 rows x 596 columns]\n",
            "(173836, 595)\n",
            "   CoverageField11A  ...  GeographicField64_TX\n",
            "0                13  ...                     0\n",
            "1                 4  ...                     0\n",
            "2                 3  ...                     0\n",
            "3                 5  ...                     0\n",
            "4                12  ...                     0\n",
            "\n",
            "[5 rows x 595 columns]\n"
          ],
          "name": "stdout"
        }
      ]
    },
    {
      "cell_type": "code",
      "metadata": {
        "id": "WDiqLOobcG_e",
        "colab_type": "code",
        "outputId": "08a206ec-38ef-4b1e-d0a0-4d9cb2659278",
        "colab": {
          "base_uri": "https://localhost:8080/",
          "height": 185
        }
      },
      "source": [
        "train_data.columns"
      ],
      "execution_count": 0,
      "outputs": [
        {
          "output_type": "execute_result",
          "data": {
            "text/plain": [
              "Index(['CoverageField11A', 'CoverageField11B', 'CoverageField1A',\n",
              "       'CoverageField1B', 'CoverageField2A', 'CoverageField2B',\n",
              "       'CoverageField3A', 'CoverageField3B', 'CoverageField4A',\n",
              "       'CoverageField4B',\n",
              "       ...\n",
              "       'PropertyField38_N', 'PropertyField38_Y', 'GeographicField63_ ',\n",
              "       'GeographicField63_N', 'GeographicField63_Y', 'GeographicField64_CA',\n",
              "       'GeographicField64_IL', 'GeographicField64_NJ', 'GeographicField64_TX',\n",
              "       'QuoteConversion_Flag'],\n",
              "      dtype='object', length=596)"
            ]
          },
          "metadata": {
            "tags": []
          },
          "execution_count": 5
        }
      ]
    },
    {
      "cell_type": "code",
      "metadata": {
        "id": "OUBE7LTNfccW",
        "colab_type": "code",
        "outputId": "55bdc0b2-9d49-4e4c-da2b-35d384e423f5",
        "colab": {
          "base_uri": "https://localhost:8080/",
          "height": 204
        }
      },
      "source": [
        "#Copy Train data excluding target\n",
        "trainData_Copy = train_data.iloc[:, :-1].copy()\n",
        "testData_Copy = test_data.copy()\n",
        "\n",
        "X_train = trainData_Copy\n",
        "X_test = testData_Copy\n",
        "y_train=train_data[\"QuoteConversion_Flag\"]\n",
        "#y_test=test_data[\"QuoteConversion_Flag\"]\n",
        "print(\"--------------------------------\")\n",
        "\n",
        "print(X_train.shape)\n",
        "print(X_test.head())\n",
        "print(y_train.shape)"
      ],
      "execution_count": 6,
      "outputs": [
        {
          "output_type": "stream",
          "text": [
            "--------------------------------\n",
            "(65000, 595)\n",
            "   CoverageField11A  ...  GeographicField64_TX\n",
            "0                13  ...                     0\n",
            "1                 4  ...                     0\n",
            "2                 3  ...                     0\n",
            "3                 5  ...                     0\n",
            "4                12  ...                     0\n",
            "\n",
            "[5 rows x 595 columns]\n",
            "(65000,)\n"
          ],
          "name": "stdout"
        }
      ]
    },
    {
      "cell_type": "code",
      "metadata": {
        "id": "qoz5nebBjQWH",
        "colab_type": "code",
        "outputId": "da37546a-b03f-4100-b9bd-990f14b32551",
        "colab": {
          "base_uri": "https://localhost:8080/",
          "height": 102
        }
      },
      "source": [
        "#SMOTE==============================================================================\n",
        "print(\"___________________________________________________________________\\nSMOTE\\n\")\n",
        "print('Original dataset shape %s' % Counter(y_train))\n",
        "sm = SMOTE(sampling_strategy='float', ratio=0.5)\n",
        "X_res, y_res = sm.fit_resample(X_train, y_train)\n",
        "print('Resampled dataset shape %s' % Counter(y_res))"
      ],
      "execution_count": 7,
      "outputs": [
        {
          "output_type": "stream",
          "text": [
            "___________________________________________________________________\n",
            "SMOTE\n",
            "\n",
            "Original dataset shape Counter({0: 52738, 1: 12262})\n",
            "Resampled dataset shape Counter({0: 52738, 1: 26369})\n"
          ],
          "name": "stdout"
        }
      ]
    },
    {
      "cell_type": "code",
      "metadata": {
        "id": "ouSzZTRsfnqO",
        "colab_type": "code",
        "colab": {}
      },
      "source": [
        "#CONSTRUCT DEFAULT DECISION TREE AND OBTAIN RESPECTIVE ACCURACY ==================\n",
        "clf = DecisionTreeClassifier()\n",
        "clf.fit(X_res, y_res)\n",
        "test_pred=pd.DataFrame(clf.predict(X_test),columns=[\"QuoteConversion_Flag\"])\n",
        "# outputs as required on kaggle\n",
        "target=pd.Series(test_pred[\"QuoteConversion_Flag\"])\n",
        "q_num=pd.Series(testData_Copy['QuoteNumber'])\n",
        "\n",
        "#Write into a file with actual prediction\n",
        "pd.concat([q_num,target],axis=1).to_csv(\"/gdrive/My Drive/week3/result1_DTC.csv\")\n",
        "\n"
      ],
      "execution_count": 0,
      "outputs": []
    },
    {
      "cell_type": "code",
      "metadata": {
        "id": "feUn7ef5fy4s",
        "colab_type": "code",
        "outputId": "b9d8ee38-4ba8-417d-f5ae-ea78e58bd339",
        "colab": {
          "base_uri": "https://localhost:8080/",
          "height": 34
        }
      },
      "source": [
        "#Hyperparameter tuning done for decision tree classifier\n",
        "parameters={'min_samples_split' : range(10,100,10),'max_depth': range(1,20,2)}\n",
        "clf_random = RandomizedSearchCV(clf,parameters,n_iter=15)\n",
        "clf_random.fit(X_res, y_res)\n",
        "grid_parm=clf_random.best_params_\n",
        "print(grid_parm)\n"
      ],
      "execution_count": 36,
      "outputs": [
        {
          "output_type": "stream",
          "text": [
            "{'min_samples_split': 80, 'max_depth': 1}\n"
          ],
          "name": "stdout"
        }
      ]
    },
    {
      "cell_type": "code",
      "metadata": {
        "id": "lj6x0WLGo1o_",
        "colab_type": "code",
        "colab": {}
      },
      "source": [
        "#Using the parameters obtained from HyperParameterTuning in the DecisionTreeClassifier \n",
        "clf_hyper = DecisionTreeClassifier(**grid_parm)\n",
        "clf_hyper.fit(X_res,y_res)\n",
        "test_pred=pd.DataFrame(clf_hyper.predict(X_test),columns=[\"QuoteConversion_Flag\"])"
      ],
      "execution_count": 0,
      "outputs": []
    },
    {
      "cell_type": "code",
      "metadata": {
        "id": "FaKrvrE_o6f3",
        "colab_type": "code",
        "colab": {}
      },
      "source": [
        "# outputs as required on kaggle\n",
        "target=pd.Series(test_pred[\"QuoteConversion_Flag\"])\n",
        "q_num=pd.Series(testData_Copy['QuoteNumber'])\n",
        "\n",
        "#Write into a file with actual prediction\n",
        "pd.concat([q_num,target],axis=1).to_csv(\"/gdrive/My Drive/week3/result2.csv\")"
      ],
      "execution_count": 0,
      "outputs": []
    },
    {
      "cell_type": "code",
      "metadata": {
        "id": "wO2_CfPlo8uh",
        "colab_type": "code",
        "outputId": "0b765a26-7c08-4058-d73e-ae4425fd7472",
        "colab": {
          "base_uri": "https://localhost:8080/",
          "height": 136
        }
      },
      "source": [
        "#run cross-validation on best hyperparameters, get auc score\n",
        "clf_cv_score = cross_val_score(clf, X_res, y_res, cv=10, scoring=\"roc_auc\")\n",
        "print(\"=== All AUC Scores ===\")\n",
        "print(clf_cv_score)\n",
        "print('\\n')\n",
        "print(\"=== Mean AUC Score ===\")\n",
        "print(\"Mean AUC Score - Decision Tree: \",clf_cv_score.mean())"
      ],
      "execution_count": 42,
      "outputs": [
        {
          "output_type": "stream",
          "text": [
            "=== All AUC Scores ===\n",
            "[0.78469852 0.61452408 0.73208191 0.67576792 0.80991657 0.95610542\n",
            " 0.9496587  0.90386803 0.93827169 0.5055935 ]\n",
            "\n",
            "\n",
            "=== Mean AUC Score ===\n",
            "Mean AUC Score - Decision Tree:  0.7870486348266648\n"
          ],
          "name": "stdout"
        }
      ]
    },
    {
      "cell_type": "code",
      "metadata": {
        "id": "cuhgy0RcseYE",
        "colab_type": "code",
        "colab": {}
      },
      "source": [
        "#Random Forest =============================================================\n",
        "#Default mode\n",
        "rfc = RandomForestClassifier()\n",
        "rfc.fit(X_train, y_train)\n",
        "test_pred=pd.DataFrame(rfc.predict(X_test),columns=[\"QuoteConversion_Flag\"])\n",
        "# outputs as required on kaggle\n",
        "target=pd.Series(test_pred[\"QuoteConversion_Flag\"])\n",
        "q_num=pd.Series(testData_Copy['QuoteNumber'])\n",
        "\n",
        "#Write into a file with actual prediction\n",
        "pd.concat([q_num,target],axis=1).to_csv(\"/gdrive/My Drive/week3/Result_RF.csv\")\n",
        "\n",
        "\n"
      ],
      "execution_count": 0,
      "outputs": []
    },
    {
      "cell_type": "code",
      "metadata": {
        "id": "oEApT8zrg9rb",
        "colab_type": "code",
        "outputId": "e60c9df7-2c79-4e75-e4ad-86b0feed5d1d",
        "colab": {
          "base_uri": "https://localhost:8080/",
          "height": 34
        }
      },
      "source": [
        "#Hyperparameter tuning for random forest\n",
        "parameters={ 'n_estimators': range(50,150,20),'min_samples_split' : range(10,100,10),'max_depth': range(1,20,2)}\n",
        "rfc_random = RandomizedSearchCV(rfc,parameters,n_iter=15)\n",
        "rfc_random.fit(X_train, y_train)\n",
        "grid_parm_rfc=rfc_random.best_params_\n",
        "print(grid_parm_rfc)\n"
      ],
      "execution_count": 45,
      "outputs": [
        {
          "output_type": "stream",
          "text": [
            "{'n_estimators': 110, 'min_samples_split': 50, 'max_depth': 19}\n"
          ],
          "name": "stdout"
        }
      ]
    },
    {
      "cell_type": "code",
      "metadata": {
        "id": "jQlOQuQP3-CE",
        "colab_type": "code",
        "colab": {
          "base_uri": "https://localhost:8080/",
          "height": 232
        },
        "outputId": "05072f90-0eb0-48b6-d597-cc2753573c45"
      },
      "source": [
        "#contruct random forest using the best parameters\n",
        "rfc_hyper= RandomForestClassifier(**grid_parm_rfc)\n",
        "rfc_hyper.fit(X_train,y_train)\n",
        "test_pred=pd.DataFrame(rfc_hyper.predict(X_test),columns=[\"QuoteConversion_Flag\"])\n",
        "# outputs as required on kaggle\n",
        "target=pd.Series(test_pred[\"QuoteConversion_Flag\"])\n",
        "q_num=pd.Series(testData_Copy['QuoteNumber'])\n",
        "\n",
        "#Write into a file with actual prediction\n",
        "pd.concat([q_num,target],axis=1).to_csv(\"/gdrive/My Drive/week3/Result_RF_Hyperparam.csv\")\n"
      ],
      "execution_count": 44,
      "outputs": [
        {
          "output_type": "error",
          "ename": "NameError",
          "evalue": "ignored",
          "traceback": [
            "\u001b[0;31m---------------------------------------------------------------------------\u001b[0m",
            "\u001b[0;31mNameError\u001b[0m                                 Traceback (most recent call last)",
            "\u001b[0;32m<ipython-input-44-221485a33201>\u001b[0m in \u001b[0;36m<module>\u001b[0;34m()\u001b[0m\n\u001b[0;32m----> 1\u001b[0;31m \u001b[0mrfc_hyper\u001b[0m\u001b[0;34m=\u001b[0m \u001b[0mRandomForestClassifier\u001b[0m\u001b[0;34m(\u001b[0m\u001b[0;34m**\u001b[0m\u001b[0mgrid_parm_rfc\u001b[0m\u001b[0;34m)\u001b[0m\u001b[0;34m\u001b[0m\u001b[0;34m\u001b[0m\u001b[0m\n\u001b[0m\u001b[1;32m      2\u001b[0m \u001b[0mrfc_hyper\u001b[0m\u001b[0;34m.\u001b[0m\u001b[0mfit\u001b[0m\u001b[0;34m(\u001b[0m\u001b[0mX_train\u001b[0m\u001b[0;34m,\u001b[0m\u001b[0my_train\u001b[0m\u001b[0;34m)\u001b[0m\u001b[0;34m\u001b[0m\u001b[0;34m\u001b[0m\u001b[0m\n\u001b[1;32m      3\u001b[0m \u001b[0mtest_pred\u001b[0m\u001b[0;34m=\u001b[0m\u001b[0mpd\u001b[0m\u001b[0;34m.\u001b[0m\u001b[0mDataFrame\u001b[0m\u001b[0;34m(\u001b[0m\u001b[0mrfc_hyper\u001b[0m\u001b[0;34m.\u001b[0m\u001b[0mpredict\u001b[0m\u001b[0;34m(\u001b[0m\u001b[0mX_test\u001b[0m\u001b[0;34m)\u001b[0m\u001b[0;34m,\u001b[0m\u001b[0mcolumns\u001b[0m\u001b[0;34m=\u001b[0m\u001b[0;34m[\u001b[0m\u001b[0;34m\"QuoteConversion_Flag\"\u001b[0m\u001b[0;34m]\u001b[0m\u001b[0;34m)\u001b[0m\u001b[0;34m\u001b[0m\u001b[0;34m\u001b[0m\u001b[0m\n\u001b[1;32m      4\u001b[0m \u001b[0;31m# outputs as required on kaggle\u001b[0m\u001b[0;34m\u001b[0m\u001b[0;34m\u001b[0m\u001b[0;34m\u001b[0m\u001b[0m\n\u001b[1;32m      5\u001b[0m \u001b[0mtarget\u001b[0m\u001b[0;34m=\u001b[0m\u001b[0mpd\u001b[0m\u001b[0;34m.\u001b[0m\u001b[0mSeries\u001b[0m\u001b[0;34m(\u001b[0m\u001b[0mtest_pred\u001b[0m\u001b[0;34m[\u001b[0m\u001b[0;34m\"QuoteConversion_Flag\"\u001b[0m\u001b[0;34m]\u001b[0m\u001b[0;34m)\u001b[0m\u001b[0;34m\u001b[0m\u001b[0;34m\u001b[0m\u001b[0m\n",
            "\u001b[0;31mNameError\u001b[0m: name 'grid_parm_rfc' is not defined"
          ]
        }
      ]
    },
    {
      "cell_type": "code",
      "metadata": {
        "id": "eZTH1iRr4JGc",
        "colab_type": "code",
        "outputId": "5a524395-d234-48f4-fdeb-a1f4a9a376c4",
        "colab": {
          "base_uri": "https://localhost:8080/",
          "height": 136
        }
      },
      "source": [
        "#run cross-validation on best parameters, get auc score\n",
        "rfc_cv_score = cross_val_score(rfc, X_res, y_res, cv=10, scoring=\"roc_auc\")\n",
        "print(\"=== All AUC Scores ===\")\n",
        "print(rfc_cv_score)\n",
        "print('\\n')\n",
        "print(\"=== Mean AUC Score ===\")\n",
        "print(\"Mean AUC Score - Random Forest: \",rfc_cv_score.mean())"
      ],
      "execution_count": 27,
      "outputs": [
        {
          "output_type": "stream",
          "text": [
            "=== All AUC Scores ===\n",
            "[0.93737195 0.93173738 0.93925431 0.94202396 0.95324802 0.99950365\n",
            " 0.99967377 0.99943232 0.99952405 0.99826398]\n",
            "\n",
            "\n",
            "=== Mean AUC Score ===\n",
            "Mean AUC Score - Random Forest:  0.9700033392900103\n"
          ],
          "name": "stdout"
        }
      ]
    },
    {
      "cell_type": "code",
      "metadata": {
        "id": "E7-nASDB4WnQ",
        "colab_type": "code",
        "colab": {}
      },
      "source": [
        "#CONSTRUCT DEFAULT NN AND OBTAIN RESPECTIVE ACCURACY =======================\n",
        "mlp = MLPClassifier()\n",
        "mlp.fit(X_res, y_res)\n",
        "test_pred=pd.DataFrame(mlp.predict(X_test),columns=[\"QuoteConversion_Flag\"])\n",
        "# outputs as required on kaggle\n",
        "target=pd.Series(test_pred[\"QuoteConversion_Flag\"])\n",
        "q_num=pd.Series(testData_Copy['QuoteNumber'])\n",
        "\n",
        "#Write into a file with actual prediction\n",
        "pd.concat([q_num,target],axis=1).to_csv(\"/gdrive/My Drive/week3/Result_NN.csv\")\n"
      ],
      "execution_count": 0,
      "outputs": []
    },
    {
      "cell_type": "code",
      "metadata": {
        "id": "3gjSDS486Hqv",
        "colab_type": "code",
        "colab": {
          "base_uri": "https://localhost:8080/",
          "height": 375
        },
        "outputId": "a3a3407e-efc4-4ad7-bd54-c9682ce155c8"
      },
      "source": [
        "#HYPERPARAMETERTUNING DONE FOR NN CLASSIFIER =======================\n",
        "params={'hidden_layer_sizes':range(10,100,10), 'max_iter':range(10,500,10), 'alpha':range(10,100,10)}\n",
        "mlp_random = RandomizedSearchCV(mlp,params,n_iter=15)\n",
        "mlp_random.fit(X_res, y_res)\n",
        "grid_parm=mlp_random.best_params_\n",
        "print(grid_parm)\n"
      ],
      "execution_count": 30,
      "outputs": [
        {
          "output_type": "error",
          "ename": "KeyboardInterrupt",
          "evalue": "ignored",
          "traceback": [
            "\u001b[0;31m---------------------------------------------------------------------------\u001b[0m",
            "\u001b[0;31mKeyboardInterrupt\u001b[0m                         Traceback (most recent call last)",
            "\u001b[0;32m<ipython-input-30-485051f2fd52>\u001b[0m in \u001b[0;36m<module>\u001b[0;34m()\u001b[0m\n\u001b[1;32m      1\u001b[0m \u001b[0mparams\u001b[0m\u001b[0;34m=\u001b[0m\u001b[0;34m{\u001b[0m\u001b[0;34m'hidden_layer_sizes'\u001b[0m\u001b[0;34m:\u001b[0m\u001b[0mrange\u001b[0m\u001b[0;34m(\u001b[0m\u001b[0;36m10\u001b[0m\u001b[0;34m,\u001b[0m\u001b[0;36m100\u001b[0m\u001b[0;34m,\u001b[0m\u001b[0;36m10\u001b[0m\u001b[0;34m)\u001b[0m\u001b[0;34m,\u001b[0m \u001b[0;34m'max_iter'\u001b[0m\u001b[0;34m:\u001b[0m\u001b[0mrange\u001b[0m\u001b[0;34m(\u001b[0m\u001b[0;36m10\u001b[0m\u001b[0;34m,\u001b[0m\u001b[0;36m500\u001b[0m\u001b[0;34m,\u001b[0m\u001b[0;36m10\u001b[0m\u001b[0;34m)\u001b[0m\u001b[0;34m,\u001b[0m \u001b[0;34m'alpha'\u001b[0m\u001b[0;34m:\u001b[0m\u001b[0mrange\u001b[0m\u001b[0;34m(\u001b[0m\u001b[0;36m10\u001b[0m\u001b[0;34m,\u001b[0m\u001b[0;36m100\u001b[0m\u001b[0;34m,\u001b[0m\u001b[0;36m10\u001b[0m\u001b[0;34m)\u001b[0m\u001b[0;34m}\u001b[0m\u001b[0;34m\u001b[0m\u001b[0;34m\u001b[0m\u001b[0m\n\u001b[1;32m      2\u001b[0m \u001b[0mmlp_random\u001b[0m \u001b[0;34m=\u001b[0m \u001b[0mRandomizedSearchCV\u001b[0m\u001b[0;34m(\u001b[0m\u001b[0mmlp\u001b[0m\u001b[0;34m,\u001b[0m\u001b[0mparams\u001b[0m\u001b[0;34m,\u001b[0m\u001b[0mn_iter\u001b[0m\u001b[0;34m=\u001b[0m\u001b[0;36m15\u001b[0m\u001b[0;34m)\u001b[0m\u001b[0;34m\u001b[0m\u001b[0;34m\u001b[0m\u001b[0m\n\u001b[0;32m----> 3\u001b[0;31m \u001b[0mmlp_random\u001b[0m\u001b[0;34m.\u001b[0m\u001b[0mfit\u001b[0m\u001b[0;34m(\u001b[0m\u001b[0mX_res\u001b[0m\u001b[0;34m,\u001b[0m \u001b[0my_res\u001b[0m\u001b[0;34m)\u001b[0m\u001b[0;34m\u001b[0m\u001b[0;34m\u001b[0m\u001b[0m\n\u001b[0m\u001b[1;32m      4\u001b[0m \u001b[0mgrid_parm\u001b[0m\u001b[0;34m=\u001b[0m\u001b[0mmlp_random\u001b[0m\u001b[0;34m.\u001b[0m\u001b[0mbest_params_\u001b[0m\u001b[0;34m\u001b[0m\u001b[0;34m\u001b[0m\u001b[0m\n\u001b[1;32m      5\u001b[0m \u001b[0mprint\u001b[0m\u001b[0;34m(\u001b[0m\u001b[0mgrid_parm\u001b[0m\u001b[0;34m)\u001b[0m\u001b[0;34m\u001b[0m\u001b[0;34m\u001b[0m\u001b[0m\n",
            "\u001b[0;32m/usr/local/lib/python3.6/dist-packages/sklearn/model_selection/_search.py\u001b[0m in \u001b[0;36mfit\u001b[0;34m(self, X, y, groups, **fit_params)\u001b[0m\n\u001b[1;32m    686\u001b[0m                 \u001b[0;32mreturn\u001b[0m \u001b[0mresults\u001b[0m\u001b[0;34m\u001b[0m\u001b[0;34m\u001b[0m\u001b[0m\n\u001b[1;32m    687\u001b[0m \u001b[0;34m\u001b[0m\u001b[0m\n\u001b[0;32m--> 688\u001b[0;31m             \u001b[0mself\u001b[0m\u001b[0;34m.\u001b[0m\u001b[0m_run_search\u001b[0m\u001b[0;34m(\u001b[0m\u001b[0mevaluate_candidates\u001b[0m\u001b[0;34m)\u001b[0m\u001b[0;34m\u001b[0m\u001b[0;34m\u001b[0m\u001b[0m\n\u001b[0m\u001b[1;32m    689\u001b[0m \u001b[0;34m\u001b[0m\u001b[0m\n\u001b[1;32m    690\u001b[0m         \u001b[0;31m# For multi-metric evaluation, store the best_index_, best_params_ and\u001b[0m\u001b[0;34m\u001b[0m\u001b[0;34m\u001b[0m\u001b[0;34m\u001b[0m\u001b[0m\n",
            "\u001b[0;32m/usr/local/lib/python3.6/dist-packages/sklearn/model_selection/_search.py\u001b[0m in \u001b[0;36m_run_search\u001b[0;34m(self, evaluate_candidates)\u001b[0m\n\u001b[1;32m   1467\u001b[0m         evaluate_candidates(ParameterSampler(\n\u001b[1;32m   1468\u001b[0m             \u001b[0mself\u001b[0m\u001b[0;34m.\u001b[0m\u001b[0mparam_distributions\u001b[0m\u001b[0;34m,\u001b[0m \u001b[0mself\u001b[0m\u001b[0;34m.\u001b[0m\u001b[0mn_iter\u001b[0m\u001b[0;34m,\u001b[0m\u001b[0;34m\u001b[0m\u001b[0;34m\u001b[0m\u001b[0m\n\u001b[0;32m-> 1469\u001b[0;31m             random_state=self.random_state))\n\u001b[0m",
            "\u001b[0;32m/usr/local/lib/python3.6/dist-packages/sklearn/model_selection/_search.py\u001b[0m in \u001b[0;36mevaluate_candidates\u001b[0;34m(candidate_params)\u001b[0m\n\u001b[1;32m    665\u001b[0m                                \u001b[0;32mfor\u001b[0m \u001b[0mparameters\u001b[0m\u001b[0;34m,\u001b[0m \u001b[0;34m(\u001b[0m\u001b[0mtrain\u001b[0m\u001b[0;34m,\u001b[0m \u001b[0mtest\u001b[0m\u001b[0;34m)\u001b[0m\u001b[0;34m\u001b[0m\u001b[0;34m\u001b[0m\u001b[0m\n\u001b[1;32m    666\u001b[0m                                in product(candidate_params,\n\u001b[0;32m--> 667\u001b[0;31m                                           cv.split(X, y, groups)))\n\u001b[0m\u001b[1;32m    668\u001b[0m \u001b[0;34m\u001b[0m\u001b[0m\n\u001b[1;32m    669\u001b[0m                 \u001b[0;32mif\u001b[0m \u001b[0mlen\u001b[0m\u001b[0;34m(\u001b[0m\u001b[0mout\u001b[0m\u001b[0;34m)\u001b[0m \u001b[0;34m<\u001b[0m \u001b[0;36m1\u001b[0m\u001b[0;34m:\u001b[0m\u001b[0;34m\u001b[0m\u001b[0;34m\u001b[0m\u001b[0m\n",
            "\u001b[0;32m/usr/local/lib/python3.6/dist-packages/joblib/parallel.py\u001b[0m in \u001b[0;36m__call__\u001b[0;34m(self, iterable)\u001b[0m\n\u001b[1;32m   1004\u001b[0m                 \u001b[0mself\u001b[0m\u001b[0;34m.\u001b[0m\u001b[0m_iterating\u001b[0m \u001b[0;34m=\u001b[0m \u001b[0mself\u001b[0m\u001b[0;34m.\u001b[0m\u001b[0m_original_iterator\u001b[0m \u001b[0;32mis\u001b[0m \u001b[0;32mnot\u001b[0m \u001b[0;32mNone\u001b[0m\u001b[0;34m\u001b[0m\u001b[0;34m\u001b[0m\u001b[0m\n\u001b[1;32m   1005\u001b[0m \u001b[0;34m\u001b[0m\u001b[0m\n\u001b[0;32m-> 1006\u001b[0;31m             \u001b[0;32mwhile\u001b[0m \u001b[0mself\u001b[0m\u001b[0;34m.\u001b[0m\u001b[0mdispatch_one_batch\u001b[0m\u001b[0;34m(\u001b[0m\u001b[0miterator\u001b[0m\u001b[0;34m)\u001b[0m\u001b[0;34m:\u001b[0m\u001b[0;34m\u001b[0m\u001b[0;34m\u001b[0m\u001b[0m\n\u001b[0m\u001b[1;32m   1007\u001b[0m                 \u001b[0;32mpass\u001b[0m\u001b[0;34m\u001b[0m\u001b[0;34m\u001b[0m\u001b[0m\n\u001b[1;32m   1008\u001b[0m \u001b[0;34m\u001b[0m\u001b[0m\n",
            "\u001b[0;32m/usr/local/lib/python3.6/dist-packages/joblib/parallel.py\u001b[0m in \u001b[0;36mdispatch_one_batch\u001b[0;34m(self, iterator)\u001b[0m\n\u001b[1;32m    832\u001b[0m                 \u001b[0;32mreturn\u001b[0m \u001b[0;32mFalse\u001b[0m\u001b[0;34m\u001b[0m\u001b[0;34m\u001b[0m\u001b[0m\n\u001b[1;32m    833\u001b[0m             \u001b[0;32melse\u001b[0m\u001b[0;34m:\u001b[0m\u001b[0;34m\u001b[0m\u001b[0;34m\u001b[0m\u001b[0m\n\u001b[0;32m--> 834\u001b[0;31m                 \u001b[0mself\u001b[0m\u001b[0;34m.\u001b[0m\u001b[0m_dispatch\u001b[0m\u001b[0;34m(\u001b[0m\u001b[0mtasks\u001b[0m\u001b[0;34m)\u001b[0m\u001b[0;34m\u001b[0m\u001b[0;34m\u001b[0m\u001b[0m\n\u001b[0m\u001b[1;32m    835\u001b[0m                 \u001b[0;32mreturn\u001b[0m \u001b[0;32mTrue\u001b[0m\u001b[0;34m\u001b[0m\u001b[0;34m\u001b[0m\u001b[0m\n\u001b[1;32m    836\u001b[0m \u001b[0;34m\u001b[0m\u001b[0m\n",
            "\u001b[0;32m/usr/local/lib/python3.6/dist-packages/joblib/parallel.py\u001b[0m in \u001b[0;36m_dispatch\u001b[0;34m(self, batch)\u001b[0m\n\u001b[1;32m    751\u001b[0m         \u001b[0;32mwith\u001b[0m \u001b[0mself\u001b[0m\u001b[0;34m.\u001b[0m\u001b[0m_lock\u001b[0m\u001b[0;34m:\u001b[0m\u001b[0;34m\u001b[0m\u001b[0;34m\u001b[0m\u001b[0m\n\u001b[1;32m    752\u001b[0m             \u001b[0mjob_idx\u001b[0m \u001b[0;34m=\u001b[0m \u001b[0mlen\u001b[0m\u001b[0;34m(\u001b[0m\u001b[0mself\u001b[0m\u001b[0;34m.\u001b[0m\u001b[0m_jobs\u001b[0m\u001b[0;34m)\u001b[0m\u001b[0;34m\u001b[0m\u001b[0;34m\u001b[0m\u001b[0m\n\u001b[0;32m--> 753\u001b[0;31m             \u001b[0mjob\u001b[0m \u001b[0;34m=\u001b[0m \u001b[0mself\u001b[0m\u001b[0;34m.\u001b[0m\u001b[0m_backend\u001b[0m\u001b[0;34m.\u001b[0m\u001b[0mapply_async\u001b[0m\u001b[0;34m(\u001b[0m\u001b[0mbatch\u001b[0m\u001b[0;34m,\u001b[0m \u001b[0mcallback\u001b[0m\u001b[0;34m=\u001b[0m\u001b[0mcb\u001b[0m\u001b[0;34m)\u001b[0m\u001b[0;34m\u001b[0m\u001b[0;34m\u001b[0m\u001b[0m\n\u001b[0m\u001b[1;32m    754\u001b[0m             \u001b[0;31m# A job can complete so quickly than its callback is\u001b[0m\u001b[0;34m\u001b[0m\u001b[0;34m\u001b[0m\u001b[0;34m\u001b[0m\u001b[0m\n\u001b[1;32m    755\u001b[0m             \u001b[0;31m# called before we get here, causing self._jobs to\u001b[0m\u001b[0;34m\u001b[0m\u001b[0;34m\u001b[0m\u001b[0;34m\u001b[0m\u001b[0m\n",
            "\u001b[0;32m/usr/local/lib/python3.6/dist-packages/joblib/_parallel_backends.py\u001b[0m in \u001b[0;36mapply_async\u001b[0;34m(self, func, callback)\u001b[0m\n\u001b[1;32m    199\u001b[0m     \u001b[0;32mdef\u001b[0m \u001b[0mapply_async\u001b[0m\u001b[0;34m(\u001b[0m\u001b[0mself\u001b[0m\u001b[0;34m,\u001b[0m \u001b[0mfunc\u001b[0m\u001b[0;34m,\u001b[0m \u001b[0mcallback\u001b[0m\u001b[0;34m=\u001b[0m\u001b[0;32mNone\u001b[0m\u001b[0;34m)\u001b[0m\u001b[0;34m:\u001b[0m\u001b[0;34m\u001b[0m\u001b[0;34m\u001b[0m\u001b[0m\n\u001b[1;32m    200\u001b[0m         \u001b[0;34m\"\"\"Schedule a func to be run\"\"\"\u001b[0m\u001b[0;34m\u001b[0m\u001b[0;34m\u001b[0m\u001b[0m\n\u001b[0;32m--> 201\u001b[0;31m         \u001b[0mresult\u001b[0m \u001b[0;34m=\u001b[0m \u001b[0mImmediateResult\u001b[0m\u001b[0;34m(\u001b[0m\u001b[0mfunc\u001b[0m\u001b[0;34m)\u001b[0m\u001b[0;34m\u001b[0m\u001b[0;34m\u001b[0m\u001b[0m\n\u001b[0m\u001b[1;32m    202\u001b[0m         \u001b[0;32mif\u001b[0m \u001b[0mcallback\u001b[0m\u001b[0;34m:\u001b[0m\u001b[0;34m\u001b[0m\u001b[0;34m\u001b[0m\u001b[0m\n\u001b[1;32m    203\u001b[0m             \u001b[0mcallback\u001b[0m\u001b[0;34m(\u001b[0m\u001b[0mresult\u001b[0m\u001b[0;34m)\u001b[0m\u001b[0;34m\u001b[0m\u001b[0;34m\u001b[0m\u001b[0m\n",
            "\u001b[0;32m/usr/local/lib/python3.6/dist-packages/joblib/_parallel_backends.py\u001b[0m in \u001b[0;36m__init__\u001b[0;34m(self, batch)\u001b[0m\n\u001b[1;32m    580\u001b[0m         \u001b[0;31m# Don't delay the application, to avoid keeping the input\u001b[0m\u001b[0;34m\u001b[0m\u001b[0;34m\u001b[0m\u001b[0;34m\u001b[0m\u001b[0m\n\u001b[1;32m    581\u001b[0m         \u001b[0;31m# arguments in memory\u001b[0m\u001b[0;34m\u001b[0m\u001b[0;34m\u001b[0m\u001b[0;34m\u001b[0m\u001b[0m\n\u001b[0;32m--> 582\u001b[0;31m         \u001b[0mself\u001b[0m\u001b[0;34m.\u001b[0m\u001b[0mresults\u001b[0m \u001b[0;34m=\u001b[0m \u001b[0mbatch\u001b[0m\u001b[0;34m(\u001b[0m\u001b[0;34m)\u001b[0m\u001b[0;34m\u001b[0m\u001b[0;34m\u001b[0m\u001b[0m\n\u001b[0m\u001b[1;32m    583\u001b[0m \u001b[0;34m\u001b[0m\u001b[0m\n\u001b[1;32m    584\u001b[0m     \u001b[0;32mdef\u001b[0m \u001b[0mget\u001b[0m\u001b[0;34m(\u001b[0m\u001b[0mself\u001b[0m\u001b[0;34m)\u001b[0m\u001b[0;34m:\u001b[0m\u001b[0;34m\u001b[0m\u001b[0;34m\u001b[0m\u001b[0m\n",
            "\u001b[0;32m/usr/local/lib/python3.6/dist-packages/joblib/parallel.py\u001b[0m in \u001b[0;36m__call__\u001b[0;34m(self)\u001b[0m\n\u001b[1;32m    254\u001b[0m         \u001b[0;32mwith\u001b[0m \u001b[0mparallel_backend\u001b[0m\u001b[0;34m(\u001b[0m\u001b[0mself\u001b[0m\u001b[0;34m.\u001b[0m\u001b[0m_backend\u001b[0m\u001b[0;34m,\u001b[0m \u001b[0mn_jobs\u001b[0m\u001b[0;34m=\u001b[0m\u001b[0mself\u001b[0m\u001b[0;34m.\u001b[0m\u001b[0m_n_jobs\u001b[0m\u001b[0;34m)\u001b[0m\u001b[0;34m:\u001b[0m\u001b[0;34m\u001b[0m\u001b[0;34m\u001b[0m\u001b[0m\n\u001b[1;32m    255\u001b[0m             return [func(*args, **kwargs)\n\u001b[0;32m--> 256\u001b[0;31m                     for func, args, kwargs in self.items]\n\u001b[0m\u001b[1;32m    257\u001b[0m \u001b[0;34m\u001b[0m\u001b[0m\n\u001b[1;32m    258\u001b[0m     \u001b[0;32mdef\u001b[0m \u001b[0m__len__\u001b[0m\u001b[0;34m(\u001b[0m\u001b[0mself\u001b[0m\u001b[0;34m)\u001b[0m\u001b[0;34m:\u001b[0m\u001b[0;34m\u001b[0m\u001b[0;34m\u001b[0m\u001b[0m\n",
            "\u001b[0;32m/usr/local/lib/python3.6/dist-packages/joblib/parallel.py\u001b[0m in \u001b[0;36m<listcomp>\u001b[0;34m(.0)\u001b[0m\n\u001b[1;32m    254\u001b[0m         \u001b[0;32mwith\u001b[0m \u001b[0mparallel_backend\u001b[0m\u001b[0;34m(\u001b[0m\u001b[0mself\u001b[0m\u001b[0;34m.\u001b[0m\u001b[0m_backend\u001b[0m\u001b[0;34m,\u001b[0m \u001b[0mn_jobs\u001b[0m\u001b[0;34m=\u001b[0m\u001b[0mself\u001b[0m\u001b[0;34m.\u001b[0m\u001b[0m_n_jobs\u001b[0m\u001b[0;34m)\u001b[0m\u001b[0;34m:\u001b[0m\u001b[0;34m\u001b[0m\u001b[0;34m\u001b[0m\u001b[0m\n\u001b[1;32m    255\u001b[0m             return [func(*args, **kwargs)\n\u001b[0;32m--> 256\u001b[0;31m                     for func, args, kwargs in self.items]\n\u001b[0m\u001b[1;32m    257\u001b[0m \u001b[0;34m\u001b[0m\u001b[0m\n\u001b[1;32m    258\u001b[0m     \u001b[0;32mdef\u001b[0m \u001b[0m__len__\u001b[0m\u001b[0;34m(\u001b[0m\u001b[0mself\u001b[0m\u001b[0;34m)\u001b[0m\u001b[0;34m:\u001b[0m\u001b[0;34m\u001b[0m\u001b[0;34m\u001b[0m\u001b[0m\n",
            "\u001b[0;32m/usr/local/lib/python3.6/dist-packages/sklearn/model_selection/_validation.py\u001b[0m in \u001b[0;36m_fit_and_score\u001b[0;34m(estimator, X, y, scorer, train, test, verbose, parameters, fit_params, return_train_score, return_parameters, return_n_test_samples, return_times, return_estimator, error_score)\u001b[0m\n\u001b[1;32m    505\u001b[0m     \u001b[0mstart_time\u001b[0m \u001b[0;34m=\u001b[0m \u001b[0mtime\u001b[0m\u001b[0;34m.\u001b[0m\u001b[0mtime\u001b[0m\u001b[0;34m(\u001b[0m\u001b[0;34m)\u001b[0m\u001b[0;34m\u001b[0m\u001b[0;34m\u001b[0m\u001b[0m\n\u001b[1;32m    506\u001b[0m \u001b[0;34m\u001b[0m\u001b[0m\n\u001b[0;32m--> 507\u001b[0;31m     \u001b[0mX_train\u001b[0m\u001b[0;34m,\u001b[0m \u001b[0my_train\u001b[0m \u001b[0;34m=\u001b[0m \u001b[0m_safe_split\u001b[0m\u001b[0;34m(\u001b[0m\u001b[0mestimator\u001b[0m\u001b[0;34m,\u001b[0m \u001b[0mX\u001b[0m\u001b[0;34m,\u001b[0m \u001b[0my\u001b[0m\u001b[0;34m,\u001b[0m \u001b[0mtrain\u001b[0m\u001b[0;34m)\u001b[0m\u001b[0;34m\u001b[0m\u001b[0;34m\u001b[0m\u001b[0m\n\u001b[0m\u001b[1;32m    508\u001b[0m     \u001b[0mX_test\u001b[0m\u001b[0;34m,\u001b[0m \u001b[0my_test\u001b[0m \u001b[0;34m=\u001b[0m \u001b[0m_safe_split\u001b[0m\u001b[0;34m(\u001b[0m\u001b[0mestimator\u001b[0m\u001b[0;34m,\u001b[0m \u001b[0mX\u001b[0m\u001b[0;34m,\u001b[0m \u001b[0my\u001b[0m\u001b[0;34m,\u001b[0m \u001b[0mtest\u001b[0m\u001b[0;34m,\u001b[0m \u001b[0mtrain\u001b[0m\u001b[0;34m)\u001b[0m\u001b[0;34m\u001b[0m\u001b[0;34m\u001b[0m\u001b[0m\n\u001b[1;32m    509\u001b[0m \u001b[0;34m\u001b[0m\u001b[0m\n",
            "\u001b[0;32m/usr/local/lib/python3.6/dist-packages/sklearn/utils/metaestimators.py\u001b[0m in \u001b[0;36m_safe_split\u001b[0;34m(estimator, X, y, indices, train_indices)\u001b[0m\n\u001b[1;32m    199\u001b[0m             \u001b[0mX_subset\u001b[0m \u001b[0;34m=\u001b[0m \u001b[0mX\u001b[0m\u001b[0;34m[\u001b[0m\u001b[0mnp\u001b[0m\u001b[0;34m.\u001b[0m\u001b[0mix_\u001b[0m\u001b[0;34m(\u001b[0m\u001b[0mindices\u001b[0m\u001b[0;34m,\u001b[0m \u001b[0mtrain_indices\u001b[0m\u001b[0;34m)\u001b[0m\u001b[0;34m]\u001b[0m\u001b[0;34m\u001b[0m\u001b[0;34m\u001b[0m\u001b[0m\n\u001b[1;32m    200\u001b[0m     \u001b[0;32melse\u001b[0m\u001b[0;34m:\u001b[0m\u001b[0;34m\u001b[0m\u001b[0;34m\u001b[0m\u001b[0m\n\u001b[0;32m--> 201\u001b[0;31m         \u001b[0mX_subset\u001b[0m \u001b[0;34m=\u001b[0m \u001b[0msafe_indexing\u001b[0m\u001b[0;34m(\u001b[0m\u001b[0mX\u001b[0m\u001b[0;34m,\u001b[0m \u001b[0mindices\u001b[0m\u001b[0;34m)\u001b[0m\u001b[0;34m\u001b[0m\u001b[0;34m\u001b[0m\u001b[0m\n\u001b[0m\u001b[1;32m    202\u001b[0m \u001b[0;34m\u001b[0m\u001b[0m\n\u001b[1;32m    203\u001b[0m     \u001b[0;32mif\u001b[0m \u001b[0my\u001b[0m \u001b[0;32mis\u001b[0m \u001b[0;32mnot\u001b[0m \u001b[0;32mNone\u001b[0m\u001b[0;34m:\u001b[0m\u001b[0;34m\u001b[0m\u001b[0;34m\u001b[0m\u001b[0m\n",
            "\u001b[0;32m/usr/local/lib/python3.6/dist-packages/sklearn/utils/__init__.py\u001b[0m in \u001b[0;36msafe_indexing\u001b[0;34m(X, indices)\u001b[0m\n\u001b[1;32m    217\u001b[0m                                    indices.dtype.kind == 'i'):\n\u001b[1;32m    218\u001b[0m             \u001b[0;31m# This is often substantially faster than X[indices]\u001b[0m\u001b[0;34m\u001b[0m\u001b[0;34m\u001b[0m\u001b[0;34m\u001b[0m\u001b[0m\n\u001b[0;32m--> 219\u001b[0;31m             \u001b[0;32mreturn\u001b[0m \u001b[0mX\u001b[0m\u001b[0;34m.\u001b[0m\u001b[0mtake\u001b[0m\u001b[0;34m(\u001b[0m\u001b[0mindices\u001b[0m\u001b[0;34m,\u001b[0m \u001b[0maxis\u001b[0m\u001b[0;34m=\u001b[0m\u001b[0;36m0\u001b[0m\u001b[0;34m)\u001b[0m\u001b[0;34m\u001b[0m\u001b[0;34m\u001b[0m\u001b[0m\n\u001b[0m\u001b[1;32m    220\u001b[0m         \u001b[0;32melse\u001b[0m\u001b[0;34m:\u001b[0m\u001b[0;34m\u001b[0m\u001b[0;34m\u001b[0m\u001b[0m\n\u001b[1;32m    221\u001b[0m             \u001b[0;32mreturn\u001b[0m \u001b[0mX\u001b[0m\u001b[0;34m[\u001b[0m\u001b[0mindices\u001b[0m\u001b[0;34m]\u001b[0m\u001b[0;34m\u001b[0m\u001b[0;34m\u001b[0m\u001b[0m\n",
            "\u001b[0;31mKeyboardInterrupt\u001b[0m: "
          ]
        }
      ]
    },
    {
      "cell_type": "code",
      "metadata": {
        "id": "RIn8Xf_u7Hu4",
        "colab_type": "code",
        "colab": {
          "base_uri": "https://localhost:8080/",
          "height": 198
        },
        "outputId": "ed6695a5-907b-43e1-ea06-77c879be00e7"
      },
      "source": [
        "#Using the parameters obtained from HyperParameterTuning in the NN \n",
        "mlp = MLPClassifier(**grid_parm)\n",
        "mlp.fit(X_res,y_res)\n",
        "test_pred=pd.DataFrame(mlp.predict(X_test),columns=[\"QuoteConversion_Flag\"])"
      ],
      "execution_count": 5,
      "outputs": [
        {
          "output_type": "error",
          "ename": "NameError",
          "evalue": "ignored",
          "traceback": [
            "\u001b[0;31m---------------------------------------------------------------------------\u001b[0m",
            "\u001b[0;31mNameError\u001b[0m                                 Traceback (most recent call last)",
            "\u001b[0;32m<ipython-input-5-b77809974b0a>\u001b[0m in \u001b[0;36m<module>\u001b[0;34m()\u001b[0m\n\u001b[0;32m----> 1\u001b[0;31m \u001b[0mmlp\u001b[0m \u001b[0;34m=\u001b[0m \u001b[0mMLPClassifier\u001b[0m\u001b[0;34m(\u001b[0m\u001b[0;34m**\u001b[0m\u001b[0mgrid_parm\u001b[0m\u001b[0;34m)\u001b[0m\u001b[0;34m\u001b[0m\u001b[0;34m\u001b[0m\u001b[0m\n\u001b[0m\u001b[1;32m      2\u001b[0m \u001b[0mmlp\u001b[0m\u001b[0;34m.\u001b[0m\u001b[0mfit\u001b[0m\u001b[0;34m(\u001b[0m\u001b[0mX_res\u001b[0m\u001b[0;34m,\u001b[0m\u001b[0my_res\u001b[0m\u001b[0;34m)\u001b[0m\u001b[0;34m\u001b[0m\u001b[0;34m\u001b[0m\u001b[0m\n\u001b[1;32m      3\u001b[0m \u001b[0mtest_pred\u001b[0m\u001b[0;34m=\u001b[0m\u001b[0mpd\u001b[0m\u001b[0;34m.\u001b[0m\u001b[0mDataFrame\u001b[0m\u001b[0;34m(\u001b[0m\u001b[0mmlp\u001b[0m\u001b[0;34m.\u001b[0m\u001b[0mpredict\u001b[0m\u001b[0;34m(\u001b[0m\u001b[0mX_test\u001b[0m\u001b[0;34m)\u001b[0m\u001b[0;34m,\u001b[0m\u001b[0mcolumns\u001b[0m\u001b[0;34m=\u001b[0m\u001b[0;34m[\u001b[0m\u001b[0;34m\"QuoteConversion_Flag\"\u001b[0m\u001b[0;34m]\u001b[0m\u001b[0;34m)\u001b[0m\u001b[0;34m\u001b[0m\u001b[0;34m\u001b[0m\u001b[0m\n",
            "\u001b[0;31mNameError\u001b[0m: name 'MLPClassifier' is not defined"
          ]
        }
      ]
    },
    {
      "cell_type": "code",
      "metadata": {
        "id": "U1BBPRu37Rvp",
        "colab_type": "code",
        "colab": {}
      },
      "source": [
        "# outputs as required on kaggle\n",
        "target=pd.Series(test_pred[\"QuoteConversion_Flag\"])\n",
        "q_num=pd.Series(testData_Copy['QuoteNumber'])\n",
        "\n",
        "#Write into a file with actual prediction\n",
        "pd.concat([q_num,target],axis=1).to_csv(\"/gdrive/My Drive/week3/ResultNnHyperParam.csv\")"
      ],
      "execution_count": 0,
      "outputs": []
    },
    {
      "cell_type": "code",
      "metadata": {
        "id": "4T7Ya2rL7vxr",
        "colab_type": "code",
        "colab": {
          "base_uri": "https://localhost:8080/",
          "height": 136
        },
        "outputId": "198ed179-7cc0-4270-fb00-b06b84a50703"
      },
      "source": [
        "#run cross-validation on best hyperparameters, get auc score\n",
        "clfCvScore = cross_val_score(clf, X_res, y_res, cv=10, scoring=\"roc_auc\")\n",
        "print(\"=== All AUC Scores ===\")\n",
        "print(clfCvScore)\n",
        "print('\\n')\n",
        "print(\"=== Mean AUC Score ===\")\n",
        "print(\"Mean AUC Score - Decision Tree: \",clfCvScore.mean())"
      ],
      "execution_count": 34,
      "outputs": [
        {
          "output_type": "stream",
          "text": [
            "=== All AUC Scores ===\n",
            "[0.74554418 0.74810391 0.74611301 0.75739477 0.77379598 0.81484642\n",
            " 0.818449   0.81190747 0.81661549 0.82002421]\n",
            "\n",
            "\n",
            "=== Mean AUC Score ===\n",
            "Mean AUC Score - Decision Tree:  0.7852794420303368\n"
          ],
          "name": "stdout"
        }
      ]
    },
    {
      "cell_type": "code",
      "metadata": {
        "id": "2FA4WVIUWfFC",
        "colab_type": "code",
        "colab": {}
      },
      "source": [
        "from sklearn.neighbors import KNeighborsClassifier"
      ],
      "execution_count": 0,
      "outputs": []
    },
    {
      "cell_type": "code",
      "metadata": {
        "id": "xujJtu7nJrCz",
        "colab_type": "code",
        "colab": {}
      },
      "source": [
        "#CONSTRUCT DEFAULT KNN AND OBTAIN RESPECTIVE ACCURACY =====================\n",
        "knn = KNeighborsClassifier()\n",
        "knn.fit(X_res, y_res)\n",
        "test_pred=pd.DataFrame(knn.predict(X_test),columns=[\"QuoteConversion_Flag\"])\n",
        "# outputs as required on kaggle\n",
        "target=pd.Series(test_pred[\"QuoteConversion_Flag\"])\n",
        "q_num=pd.Series(testData_Copy['QuoteNumber'])\n",
        "\n",
        "#Write into a file with actual prediction\n",
        "pd.concat([q_num,target],axis=1).to_csv(\"/gdrive/My Drive/week3/Result_KNN.csv\")"
      ],
      "execution_count": 0,
      "outputs": []
    },
    {
      "cell_type": "code",
      "metadata": {
        "id": "q_UYMArLKPfQ",
        "colab_type": "code",
        "colab": {}
      },
      "source": [
        "#Hyperparameter tuning done for KNN Classifier\n",
        "parameters={'n_neighbors'= 5, 'weights'='uniform', 'algorithm'='auto', 'leaf_size'=30 }\n",
        "knn_random = RandomizedSearchCV(knn,parameters,n_iter=15)\n",
        "knn_random.fit(X_res, y_res)\n",
        "grid_parm=knn_random.best_params_\n",
        "print(grid_parm)\n"
      ],
      "execution_count": 0,
      "outputs": []
    },
    {
      "cell_type": "code",
      "metadata": {
        "id": "WKzNzfWdKSBg",
        "colab_type": "code",
        "colab": {}
      },
      "source": [
        "#Using the parameters obtained from HyperParameterTuning in the NN \n",
        "knn_hyperParam = KNeighborsClassifier(**grid_parm)\n",
        "knn_hyperParam.fit(X_res,y_res)\n",
        "test_pred=pd.DataFrame(knn_hyperParam.predict(X_test),columns=[\"QuoteConversion_Flag\"])"
      ],
      "execution_count": 0,
      "outputs": []
    },
    {
      "cell_type": "code",
      "metadata": {
        "id": "5B1_sSGIKVwe",
        "colab_type": "code",
        "colab": {}
      },
      "source": [
        "# outputs as required on kaggle\n",
        "target=pd.Series(test_pred[\"QuoteConversion_Flag\"])\n",
        "q_num=pd.Series(testData_Copy['QuoteNumber'])\n",
        "\n",
        "#Write into a file with actual prediction\n",
        "pd.concat([q_num,target],axis=1).to_csv(\"/gdrive/My Drive/week3/ResultKnnHyperParam.csv\")"
      ],
      "execution_count": 0,
      "outputs": []
    },
    {
      "cell_type": "code",
      "metadata": {
        "id": "j_y7FDo6KY9A",
        "colab_type": "code",
        "colab": {
          "base_uri": "https://localhost:8080/",
          "height": 136
        },
        "outputId": "38a0ac19-6f58-4c74-b459-035c6cc624d2"
      },
      "source": [
        "#run cross-validation on best hyperparameters, get auc score\n",
        "ClfCvScore = cross_val_score(clf, X_res, y_res, cv=10, scoring=\"roc_auc\")\n",
        "print(\"=== All AUC Scores ===\")\n",
        "print(ClfCvScore)\n",
        "print('\\n')\n",
        "print(\"=== Mean AUC Score ===\")\n",
        "print(\"Mean AUC Score - Decision Tree: \",ClfCvScore.mean())"
      ],
      "execution_count": 39,
      "outputs": [
        {
          "output_type": "stream",
          "text": [
            "=== All AUC Scores ===\n",
            "[0.74554418 0.74810391 0.74611301 0.75739477 0.77379598 0.81484642\n",
            " 0.818449   0.81190747 0.81661549 0.82002421]\n",
            "\n",
            "\n",
            "=== Mean AUC Score ===\n",
            "Mean AUC Score - Decision Tree:  0.7852794420303368\n"
          ],
          "name": "stdout"
        }
      ]
    },
    {
      "cell_type": "code",
      "metadata": {
        "id": "cw5v0ZQFYOGN",
        "colab_type": "code",
        "colab": {}
      },
      "source": [
        "from sklearn.svm import LinearSVC"
      ],
      "execution_count": 0,
      "outputs": []
    },
    {
      "cell_type": "code",
      "metadata": {
        "id": "4kWWnQ4vMveo",
        "colab_type": "code",
        "colab": {}
      },
      "source": [
        "#CONSTRUCT DEFAULT SVM AND OBTAIN RESPECTIVE ACCURACY ==================\n",
        "svm = LinearSVC()\n",
        "svm.fit(X_res, y_res)\n",
        "test_pred=pd.DataFrame(svm.predict(X_test),columns=[\"QuoteConversion_Flag\"])\n",
        "# outputs as required on kaggle\n",
        "target=pd.Series(test_pred[\"QuoteConversion_Flag\"])\n",
        "q_num=pd.Series(testData_Copy['QuoteNumber'])\n",
        "\n",
        "#Write into a file with actual prediction\n",
        "pd.concat([q_num,target],axis=1).to_csv(\"/gdrive/My Drive/week3/Result_SVM.csv\")"
      ],
      "execution_count": 0,
      "outputs": []
    },
    {
      "cell_type": "code",
      "metadata": {
        "id": "PbrwNUnjNgb3",
        "colab_type": "code",
        "colab": {}
      },
      "source": [
        "#Hyperparameter tuning done for SVM Classifier\n",
        "parameters={'C'=1.0, 'kernel'='sigmoid', 'degree'=3, 'gamma'='auto_deprecated', 'shrinking'=True}\n",
        "sv_random = RandomizedSearchCV(sv,parameters,n_iter=15)\n",
        "sv_random.fit(X_res, y_res)\n",
        "grid_parm=sv_random.best_params_\n",
        "print(grid_parm)"
      ],
      "execution_count": 0,
      "outputs": []
    },
    {
      "cell_type": "code",
      "metadata": {
        "id": "Gzxh57TaNlcu",
        "colab_type": "code",
        "colab": {}
      },
      "source": [
        "#Using the parameters obtained from HyperParameterTuning in the SVM\n",
        "sv= LinearSVC(**grid_parm)\n",
        "sv.fit(X_res,y_res)\n",
        "test_pred=pd.DataFrame(sv.predict(X_test),columns=[\"QuoteConversion_Flag\"])"
      ],
      "execution_count": 0,
      "outputs": []
    },
    {
      "cell_type": "code",
      "metadata": {
        "id": "wKwkK9bTNssv",
        "colab_type": "code",
        "colab": {}
      },
      "source": [
        "# outputs as required on kaggle\n",
        "target=pd.Series(test_pred[\"QuoteConversion_Flag\"])\n",
        "q_num=pd.Series(testData_Copy['QuoteNumber'])\n",
        "\n",
        "#Write into a file with actual prediction\n",
        "pd.concat([q_num,target],axis=1).to_csv(\"/gdrive/My Drive/week3/Result_SvmHyperParam.csv\")"
      ],
      "execution_count": 0,
      "outputs": []
    },
    {
      "cell_type": "code",
      "metadata": {
        "id": "be9OYeu5NzDY",
        "colab_type": "code",
        "colab": {
          "base_uri": "https://localhost:8080/",
          "height": 136
        },
        "outputId": "4f482d49-60f8-4ef8-d92a-5fdc06522f0e"
      },
      "source": [
        "#run cross-validation on best hyperparameters, get auc score ======================\n",
        "clf_cv_score = cross_val_score(clf, X_res, y_res, cv=10, scoring=\"roc_auc\")\n",
        "print(\"=== All AUC Scores ===\")\n",
        "print(clf_cv_score)\n",
        "print('\\n')\n",
        "print(\"=== Mean AUC Score ===\")\n",
        "print(\"Mean AUC Score - Decision Tree: \",clf_cv_score.mean())"
      ],
      "execution_count": 43,
      "outputs": [
        {
          "output_type": "stream",
          "text": [
            "=== All AUC Scores ===\n",
            "[0.74554418 0.74810391 0.74611301 0.75739477 0.77379598 0.81484642\n",
            " 0.818449   0.81190747 0.81661549 0.82002421]\n",
            "\n",
            "\n",
            "=== Mean AUC Score ===\n",
            "Mean AUC Score - Decision Tree:  0.7852794420303368\n"
          ],
          "name": "stdout"
        }
      ]
    },
    {
      "cell_type": "code",
      "metadata": {
        "id": "nW12HH9qh9rQ",
        "colab_type": "code",
        "colab": {
          "base_uri": "https://localhost:8080/",
          "height": 629
        },
        "outputId": "35cf03f3-18c9-4009-a826-c79bb7c6909b"
      },
      "source": [
        "#STACKING MODELS =====================================================================\n",
        "print(\"___________________________________________________________________________________________\\nEnsemble Methods Predictions using GradientBoosting, RandomForest and Decision Tree Classifier\\n\")\n",
        "\n",
        "models = [ clf,rfc,knn ]\n",
        "      \n",
        "S_Train, S_Test = stacking(models,                   \n",
        "                           X_res, y_res, X_test,   \n",
        "                           regression=False, \n",
        "     \n",
        "                           mode='oof_pred_bag', \n",
        "       \n",
        "                           needs_proba=False,\n",
        "         \n",
        "                           save_dir=None, \n",
        "            \n",
        "                           metric=accuracy_score, \n",
        "    \n",
        "                           n_folds=4, \n",
        "                 \n",
        "                           stratified=True,\n",
        "            \n",
        "                           shuffle=True,  \n",
        "            \n",
        "                           random_state=0,    \n",
        "         \n",
        "                           verbose=2)\n"
      ],
      "execution_count": 20,
      "outputs": [
        {
          "output_type": "stream",
          "text": [
            "___________________________________________________________________________________________\n",
            "Ensemble Methods Predictions using GradientBoosting, RandomForest and Decision Tree Classifier\n",
            "\n",
            "task:         [classification]\n",
            "n_classes:    [2]\n",
            "metric:       [accuracy_score]\n",
            "mode:         [oof_pred_bag]\n",
            "n_models:     [3]\n",
            "\n",
            "model  0:     [DecisionTreeClassifier]\n",
            "    fold  0:  [0.90656285]\n",
            "    fold  1:  [0.90241189]\n",
            "    fold  2:  [0.90038430]\n",
            "    fold  3:  [0.89967638]\n",
            "    ----\n",
            "    MEAN:     [0.90225885] + [0.00268006]\n",
            "    FULL:     [0.90225897]\n",
            "\n",
            "model  1:     [RandomForestClassifier]\n",
            "    fold  0:  [0.91323693]\n",
            "    fold  1:  [0.91292916]\n",
            "    fold  2:  [0.91039644]\n",
            "    fold  3:  [0.90751416]\n",
            "    ----\n",
            "    MEAN:     [0.91101917] + [0.00230431]\n",
            "    FULL:     [0.91101925]\n",
            "\n",
            "model  2:     [KNeighborsClassifier]\n",
            "    fold  0:  [0.70103145]\n",
            "    fold  1:  [0.69444304]\n",
            "    fold  2:  [0.69943366]\n",
            "    fold  3:  [0.69725930]\n",
            "    ----\n",
            "    MEAN:     [0.69804186] + [0.00247177]\n",
            "    FULL:     [0.69804189]\n",
            "\n"
          ],
          "name": "stdout"
        }
      ]
    },
    {
      "cell_type": "code",
      "metadata": {
        "id": "-kGCHGTaiGTb",
        "colab_type": "code",
        "colab": {}
      },
      "source": [
        "#STACKING - CONTRUCT A GRADIENT BOOSTING MODEL Decision Tree===========================================\n",
        "model1 = DecisionTreeClassifier()\n",
        "model1 = model1.fit(S_Train, y_res)\n",
        "y_pred1 = model1.predict(S_Test)"
      ],
      "execution_count": 0,
      "outputs": []
    },
    {
      "cell_type": "code",
      "metadata": {
        "id": "rIXV1Fn_jjup",
        "colab_type": "code",
        "colab": {
          "base_uri": "https://localhost:8080/",
          "height": 204
        },
        "outputId": "d5878bba-1f90-430c-ac0d-ad13df8eb777"
      },
      "source": [
        "#Get Prediction Probability for the predicted class as a dataframe =====================================\n",
        "pred_prob = pd.DataFrame(model.predict_proba(S_Test))\n",
        "pred_prob.head()"
      ],
      "execution_count": 52,
      "outputs": [
        {
          "output_type": "execute_result",
          "data": {
            "text/html": [
              "<div>\n",
              "<style scoped>\n",
              "    .dataframe tbody tr th:only-of-type {\n",
              "        vertical-align: middle;\n",
              "    }\n",
              "\n",
              "    .dataframe tbody tr th {\n",
              "        vertical-align: top;\n",
              "    }\n",
              "\n",
              "    .dataframe thead th {\n",
              "        text-align: right;\n",
              "    }\n",
              "</style>\n",
              "<table border=\"1\" class=\"dataframe\">\n",
              "  <thead>\n",
              "    <tr style=\"text-align: right;\">\n",
              "      <th></th>\n",
              "      <th>0</th>\n",
              "      <th>1</th>\n",
              "    </tr>\n",
              "  </thead>\n",
              "  <tbody>\n",
              "    <tr>\n",
              "      <th>0</th>\n",
              "      <td>0.956666</td>\n",
              "      <td>0.043334</td>\n",
              "    </tr>\n",
              "    <tr>\n",
              "      <th>1</th>\n",
              "      <td>0.956666</td>\n",
              "      <td>0.043334</td>\n",
              "    </tr>\n",
              "    <tr>\n",
              "      <th>2</th>\n",
              "      <td>0.956666</td>\n",
              "      <td>0.043334</td>\n",
              "    </tr>\n",
              "    <tr>\n",
              "      <th>3</th>\n",
              "      <td>0.956666</td>\n",
              "      <td>0.043334</td>\n",
              "    </tr>\n",
              "    <tr>\n",
              "      <th>4</th>\n",
              "      <td>0.895150</td>\n",
              "      <td>0.104850</td>\n",
              "    </tr>\n",
              "  </tbody>\n",
              "</table>\n",
              "</div>"
            ],
            "text/plain": [
              "          0         1\n",
              "0  0.956666  0.043334\n",
              "1  0.956666  0.043334\n",
              "2  0.956666  0.043334\n",
              "3  0.956666  0.043334\n",
              "4  0.895150  0.104850"
            ]
          },
          "metadata": {
            "tags": []
          },
          "execution_count": 52
        }
      ]
    },
    {
      "cell_type": "code",
      "metadata": {
        "id": "s5S2PTxpi30X",
        "colab_type": "code",
        "colab": {}
      },
      "source": [
        "#STACKING - CONTRUCT A GRADIENT BOOSTING MODEL Random Forest===========================================\n",
        "model2 = RandomForestClassifier()\n",
        "model2 = model2.fit(S_Train, y_res)\n",
        "y_pred2 = model2.predict(S_Test)"
      ],
      "execution_count": 0,
      "outputs": []
    },
    {
      "cell_type": "code",
      "metadata": {
        "id": "dwA0TLt6jR7g",
        "colab_type": "code",
        "colab": {}
      },
      "source": [
        "#STACKING - CONTRUCT A GRADIENT BOOSTING MODEL KNN===========================================\n",
        "model3 = KNeighborsClassifier()\n",
        "model3 = model3.fit(S_Train, y_res)\n",
        "y_pred3 = model3.predict(S_Test)"
      ],
      "execution_count": 0,
      "outputs": []
    },
    {
      "cell_type": "code",
      "metadata": {
        "id": "CKg4i4YTiPqi",
        "colab_type": "code",
        "colab": {}
      },
      "source": [
        "#Get Prediction Probability for the predicted class as a dataframe =====================================\n",
        "pred_prob = pd.DataFrame(model.predict_proba(S_Test))\n",
        "pred_prob.head()\n"
      ],
      "execution_count": 0,
      "outputs": []
    },
    {
      "cell_type": "code",
      "metadata": {
        "id": "Q39c55RUiWq5",
        "colab_type": "code",
        "colab": {
          "base_uri": "https://localhost:8080/",
          "height": 204
        },
        "outputId": "37a085ba-ee7c-4a38-98d5-57b6ef0bc1e8"
      },
      "source": [
        "#Write into a file with actual prediction and corresponding probability\n",
        "#Get Class Prediction as a data frame with header as Prediction\n",
        "pd_1=pd.DataFrame(y_pred1,columns=[\"QuoteConversion_Flag\"]) #predict function to give training set / test set to get answers\n",
        "\n",
        "pd_1.head() # only after hard prediction.\n",
        "\n",
        "                \n",
        "                \n",
        "pd.concat([test_data[['QuoteNumber']],pd_1],axis=1).to_csv('/gdrive/My Drive/week3/Stacking_Model1.csv', index = None)\n",
        "\n",
        "res=pd.read_csv('/gdrive/My Drive/week3/Stacking_Model1.csv')\n",
        "res.head()"
      ],
      "execution_count": 25,
      "outputs": [
        {
          "output_type": "execute_result",
          "data": {
            "text/html": [
              "<div>\n",
              "<style scoped>\n",
              "    .dataframe tbody tr th:only-of-type {\n",
              "        vertical-align: middle;\n",
              "    }\n",
              "\n",
              "    .dataframe tbody tr th {\n",
              "        vertical-align: top;\n",
              "    }\n",
              "\n",
              "    .dataframe thead th {\n",
              "        text-align: right;\n",
              "    }\n",
              "</style>\n",
              "<table border=\"1\" class=\"dataframe\">\n",
              "  <thead>\n",
              "    <tr style=\"text-align: right;\">\n",
              "      <th></th>\n",
              "      <th>QuoteNumber</th>\n",
              "      <th>QuoteConversion_Flag</th>\n",
              "    </tr>\n",
              "  </thead>\n",
              "  <tbody>\n",
              "    <tr>\n",
              "      <th>0</th>\n",
              "      <td>3</td>\n",
              "      <td>0</td>\n",
              "    </tr>\n",
              "    <tr>\n",
              "      <th>1</th>\n",
              "      <td>5</td>\n",
              "      <td>0</td>\n",
              "    </tr>\n",
              "    <tr>\n",
              "      <th>2</th>\n",
              "      <td>7</td>\n",
              "      <td>0</td>\n",
              "    </tr>\n",
              "    <tr>\n",
              "      <th>3</th>\n",
              "      <td>9</td>\n",
              "      <td>0</td>\n",
              "    </tr>\n",
              "    <tr>\n",
              "      <th>4</th>\n",
              "      <td>10</td>\n",
              "      <td>0</td>\n",
              "    </tr>\n",
              "  </tbody>\n",
              "</table>\n",
              "</div>"
            ],
            "text/plain": [
              "   QuoteNumber  QuoteConversion_Flag\n",
              "0            3                     0\n",
              "1            5                     0\n",
              "2            7                     0\n",
              "3            9                     0\n",
              "4           10                     0"
            ]
          },
          "metadata": {
            "tags": []
          },
          "execution_count": 25
        }
      ]
    },
    {
      "cell_type": "code",
      "metadata": {
        "id": "qMNnFltLbCx0",
        "colab_type": "code",
        "colab": {
          "base_uri": "https://localhost:8080/",
          "height": 34
        },
        "outputId": "d3b79f0d-a590-491e-f85a-a6800ee8f2db"
      },
      "source": [
        "res.shape"
      ],
      "execution_count": 28,
      "outputs": [
        {
          "output_type": "execute_result",
          "data": {
            "text/plain": [
              "(173836, 2)"
            ]
          },
          "metadata": {
            "tags": []
          },
          "execution_count": 28
        }
      ]
    },
    {
      "cell_type": "code",
      "metadata": {
        "id": "o60p0ofWTLCZ",
        "colab_type": "code",
        "colab": {
          "base_uri": "https://localhost:8080/",
          "height": 204
        },
        "outputId": "2309e295-ae81-4ee0-c9a2-83a26e2f7397"
      },
      "source": [
        "#Write into a file with actual prediction and corresponding probability\n",
        "#Get Class Prediction as a data frame with header as Prediction\n",
        "pd_2=pd.DataFrame(y_pred2,columns=[\"QuoteConversion_Flag\"]) #predict function to give training set / test set to get answers\n",
        "\n",
        "pd_2.head() # only after hard prediction.\n",
        "\n",
        "                \n",
        "                \n",
        "pd.concat([test_data[['QuoteNumber']],pd_2],axis=1).to_csv('/gdrive/My Drive/week3/Stacking_Model2.csv', index = None)\n",
        "\n",
        "res2=pd.read_csv('/gdrive/My Drive/week3/Stacking_Model2.csv')\n",
        "res2.head()"
      ],
      "execution_count": 33,
      "outputs": [
        {
          "output_type": "execute_result",
          "data": {
            "text/html": [
              "<div>\n",
              "<style scoped>\n",
              "    .dataframe tbody tr th:only-of-type {\n",
              "        vertical-align: middle;\n",
              "    }\n",
              "\n",
              "    .dataframe tbody tr th {\n",
              "        vertical-align: top;\n",
              "    }\n",
              "\n",
              "    .dataframe thead th {\n",
              "        text-align: right;\n",
              "    }\n",
              "</style>\n",
              "<table border=\"1\" class=\"dataframe\">\n",
              "  <thead>\n",
              "    <tr style=\"text-align: right;\">\n",
              "      <th></th>\n",
              "      <th>QuoteNumber</th>\n",
              "      <th>QuoteConversion_Flag</th>\n",
              "    </tr>\n",
              "  </thead>\n",
              "  <tbody>\n",
              "    <tr>\n",
              "      <th>0</th>\n",
              "      <td>3</td>\n",
              "      <td>0</td>\n",
              "    </tr>\n",
              "    <tr>\n",
              "      <th>1</th>\n",
              "      <td>5</td>\n",
              "      <td>0</td>\n",
              "    </tr>\n",
              "    <tr>\n",
              "      <th>2</th>\n",
              "      <td>7</td>\n",
              "      <td>0</td>\n",
              "    </tr>\n",
              "    <tr>\n",
              "      <th>3</th>\n",
              "      <td>9</td>\n",
              "      <td>0</td>\n",
              "    </tr>\n",
              "    <tr>\n",
              "      <th>4</th>\n",
              "      <td>10</td>\n",
              "      <td>0</td>\n",
              "    </tr>\n",
              "  </tbody>\n",
              "</table>\n",
              "</div>"
            ],
            "text/plain": [
              "   QuoteNumber  QuoteConversion_Flag\n",
              "0            3                     0\n",
              "1            5                     0\n",
              "2            7                     0\n",
              "3            9                     0\n",
              "4           10                     0"
            ]
          },
          "metadata": {
            "tags": []
          },
          "execution_count": 33
        }
      ]
    },
    {
      "cell_type": "code",
      "metadata": {
        "id": "WTahGsYLbkAD",
        "colab_type": "code",
        "colab": {
          "base_uri": "https://localhost:8080/",
          "height": 34
        },
        "outputId": "be448562-fe67-4ede-dc9c-719ab996374f"
      },
      "source": [
        "res.shape"
      ],
      "execution_count": 29,
      "outputs": [
        {
          "output_type": "execute_result",
          "data": {
            "text/plain": [
              "(173836, 2)"
            ]
          },
          "metadata": {
            "tags": []
          },
          "execution_count": 29
        }
      ]
    },
    {
      "cell_type": "code",
      "metadata": {
        "id": "R2N7Ym1qTMmk",
        "colab_type": "code",
        "colab": {
          "base_uri": "https://localhost:8080/",
          "height": 204
        },
        "outputId": "5868a442-ec41-4537-9bd1-911c1791146c"
      },
      "source": [
        "#Write into a file with actual prediction and corresponding probability\n",
        "#Get Class Prediction as a data frame with header as Prediction\n",
        "pd_3=pd.DataFrame(y_pred3,columns=[\"QuoteConversion_Flag\"]) #predict function to give training set / test set to get answers\n",
        "\n",
        "pd_3.head() # only after hard prediction.\n",
        "\n",
        "                \n",
        "                \n",
        "pd.concat([test_data[['QuoteNumber']],pd_3],axis=1).to_csv('/gdrive/My Drive/week3/Stacking_Model3.csv', index = None)\n",
        "\n",
        "res3=pd.read_csv('/gdrive/My Drive/week3/Stacking_Model3.csv')\n",
        "res3.head()"
      ],
      "execution_count": 35,
      "outputs": [
        {
          "output_type": "execute_result",
          "data": {
            "text/html": [
              "<div>\n",
              "<style scoped>\n",
              "    .dataframe tbody tr th:only-of-type {\n",
              "        vertical-align: middle;\n",
              "    }\n",
              "\n",
              "    .dataframe tbody tr th {\n",
              "        vertical-align: top;\n",
              "    }\n",
              "\n",
              "    .dataframe thead th {\n",
              "        text-align: right;\n",
              "    }\n",
              "</style>\n",
              "<table border=\"1\" class=\"dataframe\">\n",
              "  <thead>\n",
              "    <tr style=\"text-align: right;\">\n",
              "      <th></th>\n",
              "      <th>QuoteNumber</th>\n",
              "      <th>QuoteConversion_Flag</th>\n",
              "    </tr>\n",
              "  </thead>\n",
              "  <tbody>\n",
              "    <tr>\n",
              "      <th>0</th>\n",
              "      <td>3</td>\n",
              "      <td>0</td>\n",
              "    </tr>\n",
              "    <tr>\n",
              "      <th>1</th>\n",
              "      <td>5</td>\n",
              "      <td>0</td>\n",
              "    </tr>\n",
              "    <tr>\n",
              "      <th>2</th>\n",
              "      <td>7</td>\n",
              "      <td>0</td>\n",
              "    </tr>\n",
              "    <tr>\n",
              "      <th>3</th>\n",
              "      <td>9</td>\n",
              "      <td>0</td>\n",
              "    </tr>\n",
              "    <tr>\n",
              "      <th>4</th>\n",
              "      <td>10</td>\n",
              "      <td>0</td>\n",
              "    </tr>\n",
              "  </tbody>\n",
              "</table>\n",
              "</div>"
            ],
            "text/plain": [
              "   QuoteNumber  QuoteConversion_Flag\n",
              "0            3                     0\n",
              "1            5                     0\n",
              "2            7                     0\n",
              "3            9                     0\n",
              "4           10                     0"
            ]
          },
          "metadata": {
            "tags": []
          },
          "execution_count": 35
        }
      ]
    },
    {
      "cell_type": "code",
      "metadata": {
        "id": "a_DNxfOobpTd",
        "colab_type": "code",
        "colab": {
          "base_uri": "https://localhost:8080/",
          "height": 34
        },
        "outputId": "2316c47b-778f-45e3-954c-56696081f685"
      },
      "source": [
        "res.shape"
      ],
      "execution_count": 30,
      "outputs": [
        {
          "output_type": "execute_result",
          "data": {
            "text/plain": [
              "(173836, 2)"
            ]
          },
          "metadata": {
            "tags": []
          },
          "execution_count": 30
        }
      ]
    },
    {
      "cell_type": "code",
      "metadata": {
        "id": "kF3OpYcKnmCV",
        "colab_type": "code",
        "colab": {
          "base_uri": "https://localhost:8080/",
          "height": 102
        },
        "outputId": "6776b3a6-4e1b-4e67-9692-dc3f4a9e701a"
      },
      "source": [
        "#SMOTE==============================================================================\n",
        "print(\"___________________________________________________________________\\nSMOTE\\n\")\n",
        "print('Original dataset shape %s' % Counter(y_train))\n",
        "sm1 = SMOTE(sampling_strategy='float', ratio=0.3)\n",
        "X_res1, y_res1 = sm1.fit_resample(X_train, y_train)\n",
        "print('Resampled dataset shape %s' % Counter(y_res1))"
      ],
      "execution_count": 37,
      "outputs": [
        {
          "output_type": "stream",
          "text": [
            "___________________________________________________________________\n",
            "SMOTE\n",
            "\n",
            "Original dataset shape Counter({0: 52738, 1: 12262})\n",
            "Resampled dataset shape Counter({0: 52738, 1: 15821})\n"
          ],
          "name": "stdout"
        }
      ]
    },
    {
      "cell_type": "code",
      "metadata": {
        "id": "Ih6dEM9AoVlr",
        "colab_type": "code",
        "colab": {
          "base_uri": "https://localhost:8080/",
          "height": 629
        },
        "outputId": "97e3bc07-7fc5-4346-cd08-f177ea5b60be"
      },
      "source": [
        "#STACKING MODELS =====================================================================\n",
        "print(\"___________________________________________________________________________________________\\nEnsemble Methods Predictions using GradientBoosting, RandomForest and Decision Tree Classifier\\n\")\n",
        "\n",
        "models1 = [ clf,rfc,knn ]\n",
        "      \n",
        "S_Train1, S_Test1 = stacking(models1,                   \n",
        "                           X_res1, y_res1, X_test,   \n",
        "                           regression=False, \n",
        "     \n",
        "                           mode='oof_pred_bag', \n",
        "       \n",
        "                           needs_proba=False,\n",
        "         \n",
        "                           save_dir=None, \n",
        "            \n",
        "                           metric=accuracy_score, \n",
        "    \n",
        "                           n_folds=4, \n",
        "                 \n",
        "                           stratified=True,\n",
        "            \n",
        "                           shuffle=True,  \n",
        "            \n",
        "                           random_state=0,    \n",
        "         \n",
        "                           verbose=2)\n"
      ],
      "execution_count": 39,
      "outputs": [
        {
          "output_type": "stream",
          "text": [
            "___________________________________________________________________________________________\n",
            "Ensemble Methods Predictions using GradientBoosting, RandomForest and Decision Tree Classifier\n",
            "\n",
            "task:         [classification]\n",
            "n_classes:    [2]\n",
            "metric:       [accuracy_score]\n",
            "mode:         [oof_pred_bag]\n",
            "n_models:     [3]\n",
            "\n",
            "model  0:     [DecisionTreeClassifier]\n",
            "    fold  0:  [0.89067149]\n",
            "    fold  1:  [0.88366394]\n",
            "    fold  2:  [0.89194235]\n",
            "    fold  3:  [0.88529086]\n",
            "    ----\n",
            "    MEAN:     [0.88789216] + [0.00349190]\n",
            "    FULL:     [0.88789218]\n",
            "\n",
            "model  1:     [RandomForestClassifier]\n",
            "    fold  0:  [0.90035587]\n",
            "    fold  1:  [0.89177363]\n",
            "    fold  2:  [0.89824377]\n",
            "    fold  3:  [0.90086936]\n",
            "    ----\n",
            "    MEAN:     [0.89781066] + [0.00362171]\n",
            "    FULL:     [0.89781064]\n",
            "\n",
            "model  2:     [KNeighborsClassifier]\n",
            "    fold  0:  [0.73787994]\n",
            "    fold  1:  [0.73838973]\n",
            "    fold  2:  [0.73936636]\n",
            "    fold  3:  [0.74006651]\n",
            "    ----\n",
            "    MEAN:     [0.73892564] + [0.00084802]\n",
            "    FULL:     [0.73892560]\n",
            "\n"
          ],
          "name": "stdout"
        }
      ]
    },
    {
      "cell_type": "code",
      "metadata": {
        "id": "bIBPOSWUnzXM",
        "colab_type": "code",
        "colab": {
          "base_uri": "https://localhost:8080/",
          "height": 102
        },
        "outputId": "141b9187-31c0-4eef-8a0d-6b05cad5c619"
      },
      "source": [
        "#SMOTE==============================================================================\n",
        "print(\"___________________________________________________________________\\nSMOTE\\n\")\n",
        "print('Original dataset shape %s' % Counter(y_train))\n",
        "sm2 = SMOTE(sampling_strategy='float', ratio=0.7)\n",
        "X_res2, y_res2 = sm2.fit_resample(X_train, y_train)\n",
        "print('Resampled dataset shape %s' % Counter(y_res2))"
      ],
      "execution_count": 38,
      "outputs": [
        {
          "output_type": "stream",
          "text": [
            "___________________________________________________________________\n",
            "SMOTE\n",
            "\n",
            "Original dataset shape Counter({0: 52738, 1: 12262})\n",
            "Resampled dataset shape Counter({0: 52738, 1: 36916})\n"
          ],
          "name": "stdout"
        }
      ]
    },
    {
      "cell_type": "code",
      "metadata": {
        "id": "rV70I5I2n-Va",
        "colab_type": "code",
        "colab": {
          "base_uri": "https://localhost:8080/",
          "height": 629
        },
        "outputId": "963ec191-792f-4d56-99f0-8caa3b375b60"
      },
      "source": [
        "#STACKING MODELS =====================================================================\n",
        "print(\"___________________________________________________________________________________________\\nEnsemble Methods Predictions using GradientBoosting, RandomForest and Decision Tree Classifier\\n\")\n",
        "\n",
        "models2 = [ clf,rfc,knn ]\n",
        "      \n",
        "S_Train2, S_Test2 = stacking(models2,                   \n",
        "                           X_res2, y_res2, X_test,   \n",
        "                           regression=False, \n",
        "     \n",
        "                           mode='oof_pred_bag', \n",
        "       \n",
        "                           needs_proba=False,\n",
        "         \n",
        "                           save_dir=None, \n",
        "            \n",
        "                           metric=accuracy_score, \n",
        "    \n",
        "                           n_folds=4, \n",
        "                 \n",
        "                           stratified=True,\n",
        "            \n",
        "                           shuffle=True,  \n",
        "            \n",
        "                           random_state=0,    \n",
        "         \n",
        "                           verbose=2)\n"
      ],
      "execution_count": 40,
      "outputs": [
        {
          "output_type": "stream",
          "text": [
            "___________________________________________________________________________________________\n",
            "Ensemble Methods Predictions using GradientBoosting, RandomForest and Decision Tree Classifier\n",
            "\n",
            "task:         [classification]\n",
            "n_classes:    [2]\n",
            "metric:       [accuracy_score]\n",
            "mode:         [oof_pred_bag]\n",
            "n_models:     [3]\n",
            "\n",
            "model  0:     [DecisionTreeClassifier]\n",
            "    fold  0:  [0.90969930]\n",
            "    fold  1:  [0.90903007]\n",
            "    fold  2:  [0.91085531]\n",
            "    fold  3:  [0.91085531]\n",
            "    ----\n",
            "    MEAN:     [0.91010999] + [0.00078197]\n",
            "    FULL:     [0.91010998]\n",
            "\n",
            "model  1:     [RandomForestClassifier]\n",
            "    fold  0:  [0.91946997]\n",
            "    fold  1:  [0.92339609]\n",
            "    fold  2:  [0.92392808]\n",
            "    fold  3:  [0.91991255]\n",
            "    ----\n",
            "    MEAN:     [0.92167667] + [0.00200043]\n",
            "    FULL:     [0.92167667]\n",
            "\n",
            "model  2:     [KNeighborsClassifier]\n",
            "    fold  0:  [0.69759971]\n",
            "    fold  1:  [0.70215044]\n",
            "    fold  2:  [0.70619730]\n",
            "    fold  3:  [0.69722929]\n",
            "    ----\n",
            "    MEAN:     [0.70079418] + [0.00367240]\n",
            "    FULL:     [0.70079416]\n",
            "\n"
          ],
          "name": "stdout"
        }
      ]
    }
  ]
}